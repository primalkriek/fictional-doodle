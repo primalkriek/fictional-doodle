{
 "cells": [
  {
   "cell_type": "code",
   "execution_count": 1,
   "id": "1cb79b46-c215-45f1-ad46-97ee3d472b8c",
   "metadata": {},
   "outputs": [],
   "source": [
    "import pandas as pd\n",
    "import matplotlib.pyplot as plt\n",
    "import seaborn as sns\n",
    "import csv\n",
    "import numpy as np"
   ]
  },
  {
   "cell_type": "code",
   "execution_count": 2,
   "id": "b34694bb-efaa-451f-a1da-50e0636561cc",
   "metadata": {},
   "outputs": [],
   "source": [
    "all_data = pd.read_csv('../data/dataset.csv', encoding=\"windows-1252\", sep=\",\")"
   ]
  },
  {
   "cell_type": "code",
   "execution_count": 302,
   "id": "790d6e53-b62a-450c-a0c7-295f2ed1093c",
   "metadata": {},
   "outputs": [
    {
     "name": "stdout",
     "output_type": "stream",
     "text": [
      "customer           object\n",
      "product            object\n",
      "week                int64\n",
      "forecasted week     int64\n",
      "demand              int64\n",
      "dtype: object\n"
     ]
    }
   ],
   "source": [
    "print(all_data.dtypes)"
   ]
  },
  {
   "cell_type": "code",
   "execution_count": 301,
   "id": "c77806c5-37bb-4573-b365-3a9d98bc377d",
   "metadata": {},
   "outputs": [
    {
     "data": {
      "text/html": [
       "<div>\n",
       "<style scoped>\n",
       "    .dataframe tbody tr th:only-of-type {\n",
       "        vertical-align: middle;\n",
       "    }\n",
       "\n",
       "    .dataframe tbody tr th {\n",
       "        vertical-align: top;\n",
       "    }\n",
       "\n",
       "    .dataframe thead th {\n",
       "        text-align: right;\n",
       "    }\n",
       "</style>\n",
       "<table border=\"1\" class=\"dataframe\">\n",
       "  <thead>\n",
       "    <tr style=\"text-align: right;\">\n",
       "      <th></th>\n",
       "      <th>customer</th>\n",
       "      <th>product</th>\n",
       "      <th>week</th>\n",
       "      <th>forecasted week</th>\n",
       "      <th>demand</th>\n",
       "    </tr>\n",
       "  </thead>\n",
       "  <tbody>\n",
       "    <tr>\n",
       "      <th>0</th>\n",
       "      <td>DreamLand</td>\n",
       "      <td>Dinosaur</td>\n",
       "      <td>0</td>\n",
       "      <td>0</td>\n",
       "      <td>83</td>\n",
       "    </tr>\n",
       "    <tr>\n",
       "      <th>1</th>\n",
       "      <td>DreamLand</td>\n",
       "      <td>Dinosaur</td>\n",
       "      <td>0</td>\n",
       "      <td>1</td>\n",
       "      <td>86</td>\n",
       "    </tr>\n",
       "    <tr>\n",
       "      <th>2</th>\n",
       "      <td>DreamLand</td>\n",
       "      <td>Dinosaur</td>\n",
       "      <td>0</td>\n",
       "      <td>2</td>\n",
       "      <td>89</td>\n",
       "    </tr>\n",
       "    <tr>\n",
       "      <th>3</th>\n",
       "      <td>DreamLand</td>\n",
       "      <td>Dinosaur</td>\n",
       "      <td>0</td>\n",
       "      <td>3</td>\n",
       "      <td>67</td>\n",
       "    </tr>\n",
       "    <tr>\n",
       "      <th>4</th>\n",
       "      <td>DreamLand</td>\n",
       "      <td>Dinosaur</td>\n",
       "      <td>0</td>\n",
       "      <td>4</td>\n",
       "      <td>68</td>\n",
       "    </tr>\n",
       "    <tr>\n",
       "      <th>...</th>\n",
       "      <td>...</td>\n",
       "      <td>...</td>\n",
       "      <td>...</td>\n",
       "      <td>...</td>\n",
       "      <td>...</td>\n",
       "    </tr>\n",
       "    <tr>\n",
       "      <th>20327</th>\n",
       "      <td>Fun</td>\n",
       "      <td>Willy Wonka</td>\n",
       "      <td>205</td>\n",
       "      <td>206</td>\n",
       "      <td>115</td>\n",
       "    </tr>\n",
       "    <tr>\n",
       "      <th>20328</th>\n",
       "      <td>Fun</td>\n",
       "      <td>Willy Wonka</td>\n",
       "      <td>205</td>\n",
       "      <td>207</td>\n",
       "      <td>112</td>\n",
       "    </tr>\n",
       "    <tr>\n",
       "      <th>20329</th>\n",
       "      <td>Fun</td>\n",
       "      <td>Willy Wonka</td>\n",
       "      <td>206</td>\n",
       "      <td>206</td>\n",
       "      <td>116</td>\n",
       "    </tr>\n",
       "    <tr>\n",
       "      <th>20330</th>\n",
       "      <td>Fun</td>\n",
       "      <td>Willy Wonka</td>\n",
       "      <td>206</td>\n",
       "      <td>207</td>\n",
       "      <td>112</td>\n",
       "    </tr>\n",
       "    <tr>\n",
       "      <th>20331</th>\n",
       "      <td>Fun</td>\n",
       "      <td>Willy Wonka</td>\n",
       "      <td>207</td>\n",
       "      <td>207</td>\n",
       "      <td>112</td>\n",
       "    </tr>\n",
       "  </tbody>\n",
       "</table>\n",
       "<p>20332 rows × 5 columns</p>\n",
       "</div>"
      ],
      "text/plain": [
       "        customer      product  week  forecasted week  demand\n",
       "0      DreamLand     Dinosaur     0                0      83\n",
       "1      DreamLand     Dinosaur     0                1      86\n",
       "2      DreamLand     Dinosaur     0                2      89\n",
       "3      DreamLand     Dinosaur     0                3      67\n",
       "4      DreamLand     Dinosaur     0                4      68\n",
       "...          ...          ...   ...              ...     ...\n",
       "20327        Fun  Willy Wonka   205              206     115\n",
       "20328        Fun  Willy Wonka   205              207     112\n",
       "20329        Fun  Willy Wonka   206              206     116\n",
       "20330        Fun  Willy Wonka   206              207     112\n",
       "20331        Fun  Willy Wonka   207              207     112\n",
       "\n",
       "[20332 rows x 5 columns]"
      ]
     },
     "execution_count": 301,
     "metadata": {},
     "output_type": "execute_result"
    }
   ],
   "source": [
    "pd.DataFrame(all_data)"
   ]
  },
  {
   "cell_type": "markdown",
   "id": "23dbfe61-2e36-47e1-9b53-074949f32641",
   "metadata": {},
   "source": [
    "### overview actuals"
   ]
  },
  {
   "cell_type": "code",
   "execution_count": 7,
   "id": "97ff66b4-0f2a-4e1a-a6a5-20ebdc2d6ba8",
   "metadata": {},
   "outputs": [],
   "source": [
    "overview_actuals = all_data[all_data['week'] == all_data['forecasted week']]"
   ]
  },
  {
   "cell_type": "code",
   "execution_count": 15,
   "id": "a6baa6af-0e53-48f0-b23a-89a5ce5383fd",
   "metadata": {},
   "outputs": [],
   "source": [
    "with pd.ExcelWriter('../output/overview actuals_GVDK.xlsx') as writer:  \n",
    "    all_data[all_data['week'] == all_data['forecasted week']].to_excel(writer, sheet_name='Actual Demand', index = False)"
   ]
  },
  {
   "cell_type": "code",
   "execution_count": 31,
   "id": "d6cae826-5868-4264-bfac-072076197f9e",
   "metadata": {},
   "outputs": [],
   "source": [
    "overview_forecast_dreamland = all_data[(all_data['week'] <= 25) &  (all_data['customer']=='Dreamland')]"
   ]
  },
  {
   "cell_type": "code",
   "execution_count": 43,
   "id": "24cca3ee-bb7c-4240-a8da-f3659ec70b0a",
   "metadata": {},
   "outputs": [],
   "source": [
    "dreamland_dinosaur_tab = all_data[ (all_data['week'] <= 25) &  (all_data['customer']=='DreamLand')&  (all_data['product']=='Dinosaur')]"
   ]
  },
  {
   "cell_type": "markdown",
   "id": "d292a400-e79d-4e82-a11e-d19436f85321",
   "metadata": {},
   "source": [
    "### overview forecast"
   ]
  },
  {
   "cell_type": "code",
   "execution_count": 308,
   "id": "e662a1d2-080f-4491-901a-23849ea63787",
   "metadata": {},
   "outputs": [
    {
     "name": "stdout",
     "output_type": "stream",
     "text": [
      "<class 'pandas.core.series.Series'>\n"
     ]
    }
   ],
   "source": [
    "print(type(all_data['customer']))"
   ]
  },
  {
   "cell_type": "code",
   "execution_count": 304,
   "id": "deaef48d-577e-4ff6-8895-5e4519e30ed8",
   "metadata": {},
   "outputs": [
    {
     "name": "stdout",
     "output_type": "stream",
     "text": [
      "<class 'pandas.core.series.Series'>\n"
     ]
    }
   ],
   "source": [
    "print(type(all_data['product']))"
   ]
  },
  {
   "cell_type": "code",
   "execution_count": 307,
   "id": "3e6ee631-dba1-4cb0-818e-2eb161a78fbf",
   "metadata": {},
   "outputs": [],
   "source": [
    "customers = all_data.customer.unique()"
   ]
  },
  {
   "cell_type": "code",
   "execution_count": 305,
   "id": "60e8a519-9341-47ee-bf9d-e6d8925ee671",
   "metadata": {},
   "outputs": [],
   "source": [
    "products=all_data['product'].unique()"
   ]
  },
  {
   "cell_type": "code",
   "execution_count": 142,
   "id": "9f073a75-a3e9-480e-a134-c6a973f84ece",
   "metadata": {},
   "outputs": [],
   "source": [
    "with pd.ExcelWriter('../output/overview forecasts_GVDK.xlsx') as writer:  \n",
    "    for customer in customers:\n",
    "        for product in products:\n",
    "        #print(customer, product)\n",
    "            pivot_data = all_data[ (all_data['week'] <= 25)\n",
    "            &  (all_data['customer']==customer)\n",
    "            &  (all_data['product']==product)].pivot(\n",
    "            index='forecasted week', columns='week', values='demand').T\n",
    "            pivot_data_sheet_name = customer+' - ' +product\n",
    "            pivot_data.to_excel(writer, sheet_name=pivot_data_sheet_name)\n",
    "        #display(pivot_data.head())\n",
    "    "
   ]
  },
  {
   "cell_type": "code",
   "execution_count": 46,
   "id": "09a0b556-0d3e-4d67-b54c-5d7fd00b2c44",
   "metadata": {},
   "outputs": [],
   "source": [
    "pivot_dreamland_dinosaur_tab = dreamland_dinosaur_tab.pivot(index='forecasted week', columns='week', values='demand').T\n",
    "with pd.ExcelWriter('../output/overview forecasts_GVDK_new.xlsx') as writer:  \n",
    "    pivot_dreamland_dinosaur_tab.to_excel(writer, sheet_name='dreamland-dinosaur')"
   ]
  },
  {
   "cell_type": "code",
   "execution_count": 108,
   "id": "94d4a747-1ee4-4d8e-b7a9-5a510b4688bf",
   "metadata": {},
   "outputs": [],
   "source": [
    "grouped_data = (all_data.groupby(['customer','product','week','forecasted week']))"
   ]
  },
  {
   "cell_type": "code",
   "execution_count": 181,
   "id": "f9874d3d-df7a-47de-9647-b9f8cfabaaa4",
   "metadata": {},
   "outputs": [],
   "source": [
    "overview_forecast_dreamland = all_data[(all_data['product'] == 'Dinosaur')\n",
    "&  (all_data['customer']=='DreamLand')\n",
    "& (all_data['week'] == all_data['forecasted week'])]"
   ]
  },
  {
   "cell_type": "markdown",
   "id": "e5830e94-4498-4cfb-91d6-ed93a2bff789",
   "metadata": {},
   "source": [
    "### overview weeks advance"
   ]
  },
  {
   "cell_type": "code",
   "execution_count": 348,
   "id": "4cd0b5a7-f9e9-4541-8ef8-4b89e0d5da3f",
   "metadata": {},
   "outputs": [],
   "source": [
    "sorted_week = all_data[(all_data['product'] == 'Dinosaur')\n",
    "&  (all_data['customer']=='DreamLand')\n",
    "& (all_data['week'] == all_data['forecasted week'])].sort_values('week', ascending=False)"
   ]
  },
  {
   "cell_type": "code",
   "execution_count": 349,
   "id": "12c284d3-a93d-4324-b72b-543db2f39506",
   "metadata": {},
   "outputs": [],
   "source": [
    "sorted_week = pd.DataFrame(sorted_week[(sorted_week['week'] >= 1)]['demand'])"
   ]
  },
  {
   "cell_type": "code",
   "execution_count": 350,
   "id": "2a26f44f-39e4-49b6-98b8-8c0ddb533de2",
   "metadata": {},
   "outputs": [],
   "source": [
    "sorted_week.rename(columns={'demand': '1'}, inplace=True)"
   ]
  },
  {
   "cell_type": "code",
   "execution_count": 351,
   "id": "02d3d036-f36c-4271-8a17-e33ffdc6fe0b",
   "metadata": {},
   "outputs": [
    {
     "data": {
      "text/html": [
       "<div>\n",
       "<style scoped>\n",
       "    .dataframe tbody tr th:only-of-type {\n",
       "        vertical-align: middle;\n",
       "    }\n",
       "\n",
       "    .dataframe tbody tr th {\n",
       "        vertical-align: top;\n",
       "    }\n",
       "\n",
       "    .dataframe thead th {\n",
       "        text-align: right;\n",
       "    }\n",
       "</style>\n",
       "<table border=\"1\" class=\"dataframe\">\n",
       "  <thead>\n",
       "    <tr style=\"text-align: right;\">\n",
       "      <th></th>\n",
       "      <th>1</th>\n",
       "    </tr>\n",
       "  </thead>\n",
       "  <tbody>\n",
       "    <tr>\n",
       "      <th>5082</th>\n",
       "      <td>103</td>\n",
       "    </tr>\n",
       "    <tr>\n",
       "      <th>5080</th>\n",
       "      <td>91</td>\n",
       "    </tr>\n",
       "    <tr>\n",
       "      <th>5077</th>\n",
       "      <td>113</td>\n",
       "    </tr>\n",
       "    <tr>\n",
       "      <th>5073</th>\n",
       "      <td>108</td>\n",
       "    </tr>\n",
       "    <tr>\n",
       "      <th>5068</th>\n",
       "      <td>96</td>\n",
       "    </tr>\n",
       "    <tr>\n",
       "      <th>...</th>\n",
       "      <td>...</td>\n",
       "    </tr>\n",
       "    <tr>\n",
       "      <th>130</th>\n",
       "      <td>62</td>\n",
       "    </tr>\n",
       "    <tr>\n",
       "      <th>104</th>\n",
       "      <td>68</td>\n",
       "    </tr>\n",
       "    <tr>\n",
       "      <th>78</th>\n",
       "      <td>68</td>\n",
       "    </tr>\n",
       "    <tr>\n",
       "      <th>52</th>\n",
       "      <td>88</td>\n",
       "    </tr>\n",
       "    <tr>\n",
       "      <th>26</th>\n",
       "      <td>85</td>\n",
       "    </tr>\n",
       "  </tbody>\n",
       "</table>\n",
       "<p>207 rows × 1 columns</p>\n",
       "</div>"
      ],
      "text/plain": [
       "        1\n",
       "5082  103\n",
       "5080   91\n",
       "5077  113\n",
       "5073  108\n",
       "5068   96\n",
       "...   ...\n",
       "130    62\n",
       "104    68\n",
       "78     68\n",
       "52     88\n",
       "26     85\n",
       "\n",
       "[207 rows x 1 columns]"
      ]
     },
     "execution_count": 351,
     "metadata": {},
     "output_type": "execute_result"
    }
   ],
   "source": [
    "sorted_week"
   ]
  },
  {
   "cell_type": "code",
   "execution_count": 417,
   "id": "4baa5888-6a12-459a-96d3-8fab19a8c833",
   "metadata": {},
   "outputs": [],
   "source": [
    "created_dataframes = {}\n",
    "with pd.ExcelWriter('../output/overview_weeks_advance_GVDK.xlsx') as writer:  \n",
    "    for customer in customers:\n",
    "        for product in products:\n",
    "            for weeknr in range(26):\n",
    "                overview_weeks_advance =all_data[(all_data['product'] == product)\n",
    "                &  (all_data['customer']==customer)\n",
    "                & (all_data['week'] == all_data['forecasted week'])].sort_values('week', ascending=False)\n",
    "                overview_weeks_advance = pd.DataFrame(overview_weeks_advance[(overview_weeks_advance['week'] >= weeknr)]['demand'])\n",
    "                overview_weeks_advance.rename(columns={'demand': weeknr}, inplace=True)\n",
    "                created_dataframes[weeknr] =  pd.DataFrame(overview_weeks_advance)\n",
    "            overview_weeks_advance_sheet_name = customer+' - ' +product\n",
    "            concatenated_df = pd.concat(created_dataframes.values(), axis=1)\n",
    "            concatenated_df.to_excel(writer, sheet_name=overview_weeks_advance_sheet_name, index =False)"
   ]
  },
  {
   "cell_type": "code",
   "execution_count": 444,
   "id": "0821acaa-db55-4fef-8d76-86e6c034b51e",
   "metadata": {},
   "outputs": [
    {
     "name": "stdout",
     "output_type": "stream",
     "text": [
      "Fun - Willy Wonka\n",
      "Fun - Willy Wonka\n",
      "Fun - Willy Wonka\n",
      "Fun - Willy Wonka\n"
     ]
    }
   ],
   "source": [
    "    created_dataframes = {}\n",
    "    for customer in customers:\n",
    "        for product in products:\n",
    "            for weeknr in range(25):\n",
    "                stats_weeks_advance =all_data[(all_data['product'] == product)\n",
    "                &  (all_data['customer']==customer)\n",
    "                & (all_data['week'] == all_data['forecasted week'])]\n",
    "                stats_weeks_advance = pd.DataFrame(stats_weeks_advance[(stats_weeks_advance['week'] >= weeknr)]['demand']).describe().T\n",
    "                stats_weeks_advance.rename(index={'demand': weeknr}, inplace=True)\n",
    "                stats_weeks_advance = stats_weeks_advance.rename_axis(\"weeks_in_advance\").reset_index()\n",
    "                created_dataframes[weeknr] =  pd.DataFrame(stats_weeks_advance)\n",
    "            stats_weeks_advance_sheet_name = customer+' - ' +product\n",
    "            print(overview_weeks_advance_sheet_name)"
   ]
  },
  {
   "cell_type": "markdown",
   "id": "2e864556-6977-486e-b7b7-e474d7f6bd84",
   "metadata": {},
   "source": [
    "### stats weeks advance"
   ]
  },
  {
   "cell_type": "code",
   "execution_count": 446,
   "id": "35998b35-805b-4dc4-aa23-7cba3f0465f2",
   "metadata": {},
   "outputs": [],
   "source": [
    "created_dataframes = {}\n",
    "with pd.ExcelWriter('../output/stats_weeks_advance_GVDK.xlsx') as writer: \n",
    "    for customer in customers:\n",
    "        for product in products:\n",
    "            for weeknr in range(26):\n",
    "                stats_weeks_advance =all_data[(all_data['product'] == product)\n",
    "                &  (all_data['customer']==customer)\n",
    "                & (all_data['week'] == all_data['forecasted week'])]\n",
    "                stats_weeks_advance = pd.DataFrame(stats_weeks_advance[(stats_weeks_advance['week'] >= weeknr)]['demand']).describe().T\n",
    "                stats_weeks_advance.rename(index={'demand': weeknr}, inplace=True)\n",
    "                stats_weeks_advance = stats_weeks_advance.rename_axis(\"weeks_in_advance\").reset_index()\n",
    "                created_dataframes[weeknr] =  pd.DataFrame(stats_weeks_advance)\n",
    "            stats_weeks_advance_sheet_name = customer+' - ' +product\n",
    "            concatenated_df = pd.concat(created_dataframes.values(), axis=0)\n",
    "            concatenated_df.to_excel(writer, sheet_name=stats_weeks_advance_sheet_name, index =False)"
   ]
  },
  {
   "cell_type": "code",
   "execution_count": 447,
   "id": "3632d629-8213-4c6f-9f2b-517e776bb846",
   "metadata": {},
   "outputs": [
    {
     "data": {
      "text/html": [
       "<div>\n",
       "<style scoped>\n",
       "    .dataframe tbody tr th:only-of-type {\n",
       "        vertical-align: middle;\n",
       "    }\n",
       "\n",
       "    .dataframe tbody tr th {\n",
       "        vertical-align: top;\n",
       "    }\n",
       "\n",
       "    .dataframe thead th {\n",
       "        text-align: right;\n",
       "    }\n",
       "</style>\n",
       "<table border=\"1\" class=\"dataframe\">\n",
       "  <thead>\n",
       "    <tr style=\"text-align: right;\">\n",
       "      <th></th>\n",
       "      <th>weeks_in_advance</th>\n",
       "      <th>count</th>\n",
       "      <th>mean</th>\n",
       "      <th>std</th>\n",
       "      <th>min</th>\n",
       "      <th>25%</th>\n",
       "      <th>50%</th>\n",
       "      <th>75%</th>\n",
       "      <th>max</th>\n",
       "    </tr>\n",
       "  </thead>\n",
       "  <tbody>\n",
       "    <tr>\n",
       "      <th>0</th>\n",
       "      <td>25</td>\n",
       "      <td>183.0</td>\n",
       "      <td>129.36612</td>\n",
       "      <td>15.475338</td>\n",
       "      <td>95.0</td>\n",
       "      <td>118.0</td>\n",
       "      <td>127.0</td>\n",
       "      <td>142.0</td>\n",
       "      <td>173.0</td>\n",
       "    </tr>\n",
       "  </tbody>\n",
       "</table>\n",
       "</div>"
      ],
      "text/plain": [
       "   weeks_in_advance  count       mean        std   min    25%    50%    75%  \\\n",
       "0                25  183.0  129.36612  15.475338  95.0  118.0  127.0  142.0   \n",
       "\n",
       "     max  \n",
       "0  173.0  "
      ]
     },
     "execution_count": 447,
     "metadata": {},
     "output_type": "execute_result"
    }
   ],
   "source": [
    "stats_weeks_advance.head()"
   ]
  },
  {
   "cell_type": "code",
   "execution_count": 405,
   "id": "aeaf27ec-5af5-443d-95ea-b756dfb05a01",
   "metadata": {},
   "outputs": [
    {
     "data": {
      "text/html": [
       "<div>\n",
       "<style scoped>\n",
       "    .dataframe tbody tr th:only-of-type {\n",
       "        vertical-align: middle;\n",
       "    }\n",
       "\n",
       "    .dataframe tbody tr th {\n",
       "        vertical-align: top;\n",
       "    }\n",
       "\n",
       "    .dataframe thead th {\n",
       "        text-align: right;\n",
       "    }\n",
       "</style>\n",
       "<table border=\"1\" class=\"dataframe\">\n",
       "  <thead>\n",
       "    <tr style=\"text-align: right;\">\n",
       "      <th></th>\n",
       "      <th>0</th>\n",
       "      <th>1</th>\n",
       "      <th>2</th>\n",
       "      <th>3</th>\n",
       "      <th>4</th>\n",
       "      <th>5</th>\n",
       "      <th>6</th>\n",
       "      <th>7</th>\n",
       "      <th>8</th>\n",
       "      <th>9</th>\n",
       "      <th>...</th>\n",
       "      <th>15</th>\n",
       "      <th>16</th>\n",
       "      <th>17</th>\n",
       "      <th>18</th>\n",
       "      <th>19</th>\n",
       "      <th>20</th>\n",
       "      <th>21</th>\n",
       "      <th>22</th>\n",
       "      <th>23</th>\n",
       "      <th>24</th>\n",
       "    </tr>\n",
       "  </thead>\n",
       "  <tbody>\n",
       "    <tr>\n",
       "      <th>20331</th>\n",
       "      <td>112</td>\n",
       "      <td>112.0</td>\n",
       "      <td>112.0</td>\n",
       "      <td>112.0</td>\n",
       "      <td>112.0</td>\n",
       "      <td>112.0</td>\n",
       "      <td>112.0</td>\n",
       "      <td>112.0</td>\n",
       "      <td>112.0</td>\n",
       "      <td>112.0</td>\n",
       "      <td>...</td>\n",
       "      <td>112.0</td>\n",
       "      <td>112.0</td>\n",
       "      <td>112.0</td>\n",
       "      <td>112.0</td>\n",
       "      <td>112.0</td>\n",
       "      <td>112.0</td>\n",
       "      <td>112.0</td>\n",
       "      <td>112.0</td>\n",
       "      <td>112.0</td>\n",
       "      <td>112.0</td>\n",
       "    </tr>\n",
       "    <tr>\n",
       "      <th>20329</th>\n",
       "      <td>116</td>\n",
       "      <td>116.0</td>\n",
       "      <td>116.0</td>\n",
       "      <td>116.0</td>\n",
       "      <td>116.0</td>\n",
       "      <td>116.0</td>\n",
       "      <td>116.0</td>\n",
       "      <td>116.0</td>\n",
       "      <td>116.0</td>\n",
       "      <td>116.0</td>\n",
       "      <td>...</td>\n",
       "      <td>116.0</td>\n",
       "      <td>116.0</td>\n",
       "      <td>116.0</td>\n",
       "      <td>116.0</td>\n",
       "      <td>116.0</td>\n",
       "      <td>116.0</td>\n",
       "      <td>116.0</td>\n",
       "      <td>116.0</td>\n",
       "      <td>116.0</td>\n",
       "      <td>116.0</td>\n",
       "    </tr>\n",
       "    <tr>\n",
       "      <th>20326</th>\n",
       "      <td>114</td>\n",
       "      <td>114.0</td>\n",
       "      <td>114.0</td>\n",
       "      <td>114.0</td>\n",
       "      <td>114.0</td>\n",
       "      <td>114.0</td>\n",
       "      <td>114.0</td>\n",
       "      <td>114.0</td>\n",
       "      <td>114.0</td>\n",
       "      <td>114.0</td>\n",
       "      <td>...</td>\n",
       "      <td>114.0</td>\n",
       "      <td>114.0</td>\n",
       "      <td>114.0</td>\n",
       "      <td>114.0</td>\n",
       "      <td>114.0</td>\n",
       "      <td>114.0</td>\n",
       "      <td>114.0</td>\n",
       "      <td>114.0</td>\n",
       "      <td>114.0</td>\n",
       "      <td>114.0</td>\n",
       "    </tr>\n",
       "    <tr>\n",
       "      <th>20322</th>\n",
       "      <td>114</td>\n",
       "      <td>114.0</td>\n",
       "      <td>114.0</td>\n",
       "      <td>114.0</td>\n",
       "      <td>114.0</td>\n",
       "      <td>114.0</td>\n",
       "      <td>114.0</td>\n",
       "      <td>114.0</td>\n",
       "      <td>114.0</td>\n",
       "      <td>114.0</td>\n",
       "      <td>...</td>\n",
       "      <td>114.0</td>\n",
       "      <td>114.0</td>\n",
       "      <td>114.0</td>\n",
       "      <td>114.0</td>\n",
       "      <td>114.0</td>\n",
       "      <td>114.0</td>\n",
       "      <td>114.0</td>\n",
       "      <td>114.0</td>\n",
       "      <td>114.0</td>\n",
       "      <td>114.0</td>\n",
       "    </tr>\n",
       "    <tr>\n",
       "      <th>20317</th>\n",
       "      <td>123</td>\n",
       "      <td>123.0</td>\n",
       "      <td>123.0</td>\n",
       "      <td>123.0</td>\n",
       "      <td>123.0</td>\n",
       "      <td>123.0</td>\n",
       "      <td>123.0</td>\n",
       "      <td>123.0</td>\n",
       "      <td>123.0</td>\n",
       "      <td>123.0</td>\n",
       "      <td>...</td>\n",
       "      <td>123.0</td>\n",
       "      <td>123.0</td>\n",
       "      <td>123.0</td>\n",
       "      <td>123.0</td>\n",
       "      <td>123.0</td>\n",
       "      <td>123.0</td>\n",
       "      <td>123.0</td>\n",
       "      <td>123.0</td>\n",
       "      <td>123.0</td>\n",
       "      <td>123.0</td>\n",
       "    </tr>\n",
       "    <tr>\n",
       "      <th>...</th>\n",
       "      <td>...</td>\n",
       "      <td>...</td>\n",
       "      <td>...</td>\n",
       "      <td>...</td>\n",
       "      <td>...</td>\n",
       "      <td>...</td>\n",
       "      <td>...</td>\n",
       "      <td>...</td>\n",
       "      <td>...</td>\n",
       "      <td>...</td>\n",
       "      <td>...</td>\n",
       "      <td>...</td>\n",
       "      <td>...</td>\n",
       "      <td>...</td>\n",
       "      <td>...</td>\n",
       "      <td>...</td>\n",
       "      <td>...</td>\n",
       "      <td>...</td>\n",
       "      <td>...</td>\n",
       "      <td>...</td>\n",
       "      <td>...</td>\n",
       "    </tr>\n",
       "    <tr>\n",
       "      <th>15353</th>\n",
       "      <td>141</td>\n",
       "      <td>141.0</td>\n",
       "      <td>141.0</td>\n",
       "      <td>141.0</td>\n",
       "      <td>141.0</td>\n",
       "      <td>NaN</td>\n",
       "      <td>NaN</td>\n",
       "      <td>NaN</td>\n",
       "      <td>NaN</td>\n",
       "      <td>NaN</td>\n",
       "      <td>...</td>\n",
       "      <td>NaN</td>\n",
       "      <td>NaN</td>\n",
       "      <td>NaN</td>\n",
       "      <td>NaN</td>\n",
       "      <td>NaN</td>\n",
       "      <td>NaN</td>\n",
       "      <td>NaN</td>\n",
       "      <td>NaN</td>\n",
       "      <td>NaN</td>\n",
       "      <td>NaN</td>\n",
       "    </tr>\n",
       "    <tr>\n",
       "      <th>15327</th>\n",
       "      <td>147</td>\n",
       "      <td>147.0</td>\n",
       "      <td>147.0</td>\n",
       "      <td>147.0</td>\n",
       "      <td>NaN</td>\n",
       "      <td>NaN</td>\n",
       "      <td>NaN</td>\n",
       "      <td>NaN</td>\n",
       "      <td>NaN</td>\n",
       "      <td>NaN</td>\n",
       "      <td>...</td>\n",
       "      <td>NaN</td>\n",
       "      <td>NaN</td>\n",
       "      <td>NaN</td>\n",
       "      <td>NaN</td>\n",
       "      <td>NaN</td>\n",
       "      <td>NaN</td>\n",
       "      <td>NaN</td>\n",
       "      <td>NaN</td>\n",
       "      <td>NaN</td>\n",
       "      <td>NaN</td>\n",
       "    </tr>\n",
       "    <tr>\n",
       "      <th>15301</th>\n",
       "      <td>154</td>\n",
       "      <td>154.0</td>\n",
       "      <td>154.0</td>\n",
       "      <td>NaN</td>\n",
       "      <td>NaN</td>\n",
       "      <td>NaN</td>\n",
       "      <td>NaN</td>\n",
       "      <td>NaN</td>\n",
       "      <td>NaN</td>\n",
       "      <td>NaN</td>\n",
       "      <td>...</td>\n",
       "      <td>NaN</td>\n",
       "      <td>NaN</td>\n",
       "      <td>NaN</td>\n",
       "      <td>NaN</td>\n",
       "      <td>NaN</td>\n",
       "      <td>NaN</td>\n",
       "      <td>NaN</td>\n",
       "      <td>NaN</td>\n",
       "      <td>NaN</td>\n",
       "      <td>NaN</td>\n",
       "    </tr>\n",
       "    <tr>\n",
       "      <th>15275</th>\n",
       "      <td>120</td>\n",
       "      <td>120.0</td>\n",
       "      <td>NaN</td>\n",
       "      <td>NaN</td>\n",
       "      <td>NaN</td>\n",
       "      <td>NaN</td>\n",
       "      <td>NaN</td>\n",
       "      <td>NaN</td>\n",
       "      <td>NaN</td>\n",
       "      <td>NaN</td>\n",
       "      <td>...</td>\n",
       "      <td>NaN</td>\n",
       "      <td>NaN</td>\n",
       "      <td>NaN</td>\n",
       "      <td>NaN</td>\n",
       "      <td>NaN</td>\n",
       "      <td>NaN</td>\n",
       "      <td>NaN</td>\n",
       "      <td>NaN</td>\n",
       "      <td>NaN</td>\n",
       "      <td>NaN</td>\n",
       "    </tr>\n",
       "    <tr>\n",
       "      <th>15249</th>\n",
       "      <td>125</td>\n",
       "      <td>NaN</td>\n",
       "      <td>NaN</td>\n",
       "      <td>NaN</td>\n",
       "      <td>NaN</td>\n",
       "      <td>NaN</td>\n",
       "      <td>NaN</td>\n",
       "      <td>NaN</td>\n",
       "      <td>NaN</td>\n",
       "      <td>NaN</td>\n",
       "      <td>...</td>\n",
       "      <td>NaN</td>\n",
       "      <td>NaN</td>\n",
       "      <td>NaN</td>\n",
       "      <td>NaN</td>\n",
       "      <td>NaN</td>\n",
       "      <td>NaN</td>\n",
       "      <td>NaN</td>\n",
       "      <td>NaN</td>\n",
       "      <td>NaN</td>\n",
       "      <td>NaN</td>\n",
       "    </tr>\n",
       "  </tbody>\n",
       "</table>\n",
       "<p>208 rows × 25 columns</p>\n",
       "</div>"
      ],
      "text/plain": [
       "        0      1      2      3      4      5      6      7      8      9   \\\n",
       "20331  112  112.0  112.0  112.0  112.0  112.0  112.0  112.0  112.0  112.0   \n",
       "20329  116  116.0  116.0  116.0  116.0  116.0  116.0  116.0  116.0  116.0   \n",
       "20326  114  114.0  114.0  114.0  114.0  114.0  114.0  114.0  114.0  114.0   \n",
       "20322  114  114.0  114.0  114.0  114.0  114.0  114.0  114.0  114.0  114.0   \n",
       "20317  123  123.0  123.0  123.0  123.0  123.0  123.0  123.0  123.0  123.0   \n",
       "...    ...    ...    ...    ...    ...    ...    ...    ...    ...    ...   \n",
       "15353  141  141.0  141.0  141.0  141.0    NaN    NaN    NaN    NaN    NaN   \n",
       "15327  147  147.0  147.0  147.0    NaN    NaN    NaN    NaN    NaN    NaN   \n",
       "15301  154  154.0  154.0    NaN    NaN    NaN    NaN    NaN    NaN    NaN   \n",
       "15275  120  120.0    NaN    NaN    NaN    NaN    NaN    NaN    NaN    NaN   \n",
       "15249  125    NaN    NaN    NaN    NaN    NaN    NaN    NaN    NaN    NaN   \n",
       "\n",
       "       ...     15     16     17     18     19     20     21     22     23  \\\n",
       "20331  ...  112.0  112.0  112.0  112.0  112.0  112.0  112.0  112.0  112.0   \n",
       "20329  ...  116.0  116.0  116.0  116.0  116.0  116.0  116.0  116.0  116.0   \n",
       "20326  ...  114.0  114.0  114.0  114.0  114.0  114.0  114.0  114.0  114.0   \n",
       "20322  ...  114.0  114.0  114.0  114.0  114.0  114.0  114.0  114.0  114.0   \n",
       "20317  ...  123.0  123.0  123.0  123.0  123.0  123.0  123.0  123.0  123.0   \n",
       "...    ...    ...    ...    ...    ...    ...    ...    ...    ...    ...   \n",
       "15353  ...    NaN    NaN    NaN    NaN    NaN    NaN    NaN    NaN    NaN   \n",
       "15327  ...    NaN    NaN    NaN    NaN    NaN    NaN    NaN    NaN    NaN   \n",
       "15301  ...    NaN    NaN    NaN    NaN    NaN    NaN    NaN    NaN    NaN   \n",
       "15275  ...    NaN    NaN    NaN    NaN    NaN    NaN    NaN    NaN    NaN   \n",
       "15249  ...    NaN    NaN    NaN    NaN    NaN    NaN    NaN    NaN    NaN   \n",
       "\n",
       "          24  \n",
       "20331  112.0  \n",
       "20329  116.0  \n",
       "20326  114.0  \n",
       "20322  114.0  \n",
       "20317  123.0  \n",
       "...      ...  \n",
       "15353    NaN  \n",
       "15327    NaN  \n",
       "15301    NaN  \n",
       "15275    NaN  \n",
       "15249    NaN  \n",
       "\n",
       "[208 rows x 25 columns]"
      ]
     },
     "execution_count": 405,
     "metadata": {},
     "output_type": "execute_result"
    }
   ],
   "source": [
    "concatenated_df"
   ]
  },
  {
   "cell_type": "code",
   "execution_count": 393,
   "id": "1b1f54bf-b52e-413d-a10d-64372c21251d",
   "metadata": {},
   "outputs": [
    {
     "ename": "TypeError",
     "evalue": "cannot concatenate object of type '<class 'int'>'; only Series and DataFrame objs are valid",
     "output_type": "error",
     "traceback": [
      "\u001b[0;31m---------------------------------------------------------------------------\u001b[0m",
      "\u001b[0;31mTypeError\u001b[0m                                 Traceback (most recent call last)",
      "Cell \u001b[0;32mIn[393], line 1\u001b[0m\n\u001b[0;32m----> 1\u001b[0m concatenated_df \u001b[38;5;241m=\u001b[39m pd\u001b[38;5;241m.\u001b[39mconcat([df \u001b[38;5;28;01mfor\u001b[39;00m df \u001b[38;5;129;01min\u001b[39;00m created_dataframes], axis\u001b[38;5;241m=\u001b[39m\u001b[38;5;241m1\u001b[39m)\n",
      "File \u001b[0;32m~/anaconda3/envs/fictional_doodle/lib/python3.11/site-packages/pandas/core/reshape/concat.py:380\u001b[0m, in \u001b[0;36mconcat\u001b[0;34m(objs, axis, join, ignore_index, keys, levels, names, verify_integrity, sort, copy)\u001b[0m\n\u001b[1;32m    377\u001b[0m \u001b[38;5;28;01melif\u001b[39;00m copy \u001b[38;5;129;01mand\u001b[39;00m using_copy_on_write():\n\u001b[1;32m    378\u001b[0m     copy \u001b[38;5;241m=\u001b[39m \u001b[38;5;28;01mFalse\u001b[39;00m\n\u001b[0;32m--> 380\u001b[0m op \u001b[38;5;241m=\u001b[39m _Concatenator(\n\u001b[1;32m    381\u001b[0m     objs,\n\u001b[1;32m    382\u001b[0m     axis\u001b[38;5;241m=\u001b[39maxis,\n\u001b[1;32m    383\u001b[0m     ignore_index\u001b[38;5;241m=\u001b[39mignore_index,\n\u001b[1;32m    384\u001b[0m     join\u001b[38;5;241m=\u001b[39mjoin,\n\u001b[1;32m    385\u001b[0m     keys\u001b[38;5;241m=\u001b[39mkeys,\n\u001b[1;32m    386\u001b[0m     levels\u001b[38;5;241m=\u001b[39mlevels,\n\u001b[1;32m    387\u001b[0m     names\u001b[38;5;241m=\u001b[39mnames,\n\u001b[1;32m    388\u001b[0m     verify_integrity\u001b[38;5;241m=\u001b[39mverify_integrity,\n\u001b[1;32m    389\u001b[0m     copy\u001b[38;5;241m=\u001b[39mcopy,\n\u001b[1;32m    390\u001b[0m     sort\u001b[38;5;241m=\u001b[39msort,\n\u001b[1;32m    391\u001b[0m )\n\u001b[1;32m    393\u001b[0m \u001b[38;5;28;01mreturn\u001b[39;00m op\u001b[38;5;241m.\u001b[39mget_result()\n",
      "File \u001b[0;32m~/anaconda3/envs/fictional_doodle/lib/python3.11/site-packages/pandas/core/reshape/concat.py:446\u001b[0m, in \u001b[0;36m_Concatenator.__init__\u001b[0;34m(self, objs, axis, join, keys, levels, names, ignore_index, verify_integrity, copy, sort)\u001b[0m\n\u001b[1;32m    443\u001b[0m objs, keys \u001b[38;5;241m=\u001b[39m \u001b[38;5;28mself\u001b[39m\u001b[38;5;241m.\u001b[39m_clean_keys_and_objs(objs, keys)\n\u001b[1;32m    445\u001b[0m \u001b[38;5;66;03m# figure out what our result ndim is going to be\u001b[39;00m\n\u001b[0;32m--> 446\u001b[0m ndims \u001b[38;5;241m=\u001b[39m \u001b[38;5;28mself\u001b[39m\u001b[38;5;241m.\u001b[39m_get_ndims(objs)\n\u001b[1;32m    447\u001b[0m sample, objs \u001b[38;5;241m=\u001b[39m \u001b[38;5;28mself\u001b[39m\u001b[38;5;241m.\u001b[39m_get_sample_object(objs, ndims, keys, names, levels)\n\u001b[1;32m    449\u001b[0m \u001b[38;5;66;03m# Standardize axis parameter to int\u001b[39;00m\n",
      "File \u001b[0;32m~/anaconda3/envs/fictional_doodle/lib/python3.11/site-packages/pandas/core/reshape/concat.py:487\u001b[0m, in \u001b[0;36m_Concatenator._get_ndims\u001b[0;34m(self, objs)\u001b[0m\n\u001b[1;32m    482\u001b[0m     \u001b[38;5;28;01mif\u001b[39;00m \u001b[38;5;129;01mnot\u001b[39;00m \u001b[38;5;28misinstance\u001b[39m(obj, (ABCSeries, ABCDataFrame)):\n\u001b[1;32m    483\u001b[0m         msg \u001b[38;5;241m=\u001b[39m (\n\u001b[1;32m    484\u001b[0m             \u001b[38;5;124mf\u001b[39m\u001b[38;5;124m\"\u001b[39m\u001b[38;5;124mcannot concatenate object of type \u001b[39m\u001b[38;5;124m'\u001b[39m\u001b[38;5;132;01m{\u001b[39;00m\u001b[38;5;28mtype\u001b[39m(obj)\u001b[38;5;132;01m}\u001b[39;00m\u001b[38;5;124m'\u001b[39m\u001b[38;5;124m; \u001b[39m\u001b[38;5;124m\"\u001b[39m\n\u001b[1;32m    485\u001b[0m             \u001b[38;5;124m\"\u001b[39m\u001b[38;5;124monly Series and DataFrame objs are valid\u001b[39m\u001b[38;5;124m\"\u001b[39m\n\u001b[1;32m    486\u001b[0m         )\n\u001b[0;32m--> 487\u001b[0m         \u001b[38;5;28;01mraise\u001b[39;00m \u001b[38;5;167;01mTypeError\u001b[39;00m(msg)\n\u001b[1;32m    489\u001b[0m     ndims\u001b[38;5;241m.\u001b[39madd(obj\u001b[38;5;241m.\u001b[39mndim)\n\u001b[1;32m    490\u001b[0m \u001b[38;5;28;01mreturn\u001b[39;00m ndims\n",
      "\u001b[0;31mTypeError\u001b[0m: cannot concatenate object of type '<class 'int'>'; only Series and DataFrame objs are valid"
     ]
    }
   ],
   "source": [
    "concatenated_df = pd.concat([df for df in created_dataframes], axis=1)"
   ]
  },
  {
   "cell_type": "code",
   "execution_count": 390,
   "id": "458b5e0d-e696-4065-acfc-4e9bcba8fa12",
   "metadata": {},
   "outputs": [
    {
     "ename": "ValueError",
     "evalue": "Data must be 1-dimensional, got ndarray of shape (208, 1) instead",
     "output_type": "error",
     "traceback": [
      "\u001b[0;31m---------------------------------------------------------------------------\u001b[0m",
      "\u001b[0;31mValueError\u001b[0m                                Traceback (most recent call last)",
      "Cell \u001b[0;32mIn[390], line 1\u001b[0m\n\u001b[0;32m----> 1\u001b[0m pd\u001b[38;5;241m.\u001b[39mDataFrame(created_dataframes, index\u001b[38;5;241m=\u001b[39m[\u001b[38;5;241m1\u001b[39m])\n",
      "File \u001b[0;32m~/anaconda3/envs/fictional_doodle/lib/python3.11/site-packages/pandas/core/frame.py:733\u001b[0m, in \u001b[0;36mDataFrame.__init__\u001b[0;34m(self, data, index, columns, dtype, copy)\u001b[0m\n\u001b[1;32m    727\u001b[0m     mgr \u001b[38;5;241m=\u001b[39m \u001b[38;5;28mself\u001b[39m\u001b[38;5;241m.\u001b[39m_init_mgr(\n\u001b[1;32m    728\u001b[0m         data, axes\u001b[38;5;241m=\u001b[39m{\u001b[38;5;124m\"\u001b[39m\u001b[38;5;124mindex\u001b[39m\u001b[38;5;124m\"\u001b[39m: index, \u001b[38;5;124m\"\u001b[39m\u001b[38;5;124mcolumns\u001b[39m\u001b[38;5;124m\"\u001b[39m: columns}, dtype\u001b[38;5;241m=\u001b[39mdtype, copy\u001b[38;5;241m=\u001b[39mcopy\n\u001b[1;32m    729\u001b[0m     )\n\u001b[1;32m    731\u001b[0m \u001b[38;5;28;01melif\u001b[39;00m \u001b[38;5;28misinstance\u001b[39m(data, \u001b[38;5;28mdict\u001b[39m):\n\u001b[1;32m    732\u001b[0m     \u001b[38;5;66;03m# GH#38939 de facto copy defaults to False only in non-dict cases\u001b[39;00m\n\u001b[0;32m--> 733\u001b[0m     mgr \u001b[38;5;241m=\u001b[39m dict_to_mgr(data, index, columns, dtype\u001b[38;5;241m=\u001b[39mdtype, copy\u001b[38;5;241m=\u001b[39mcopy, typ\u001b[38;5;241m=\u001b[39mmanager)\n\u001b[1;32m    734\u001b[0m \u001b[38;5;28;01melif\u001b[39;00m \u001b[38;5;28misinstance\u001b[39m(data, ma\u001b[38;5;241m.\u001b[39mMaskedArray):\n\u001b[1;32m    735\u001b[0m     \u001b[38;5;28;01mfrom\u001b[39;00m \u001b[38;5;21;01mnumpy\u001b[39;00m\u001b[38;5;21;01m.\u001b[39;00m\u001b[38;5;21;01mma\u001b[39;00m \u001b[38;5;28;01mimport\u001b[39;00m mrecords\n",
      "File \u001b[0;32m~/anaconda3/envs/fictional_doodle/lib/python3.11/site-packages/pandas/core/internals/construction.py:503\u001b[0m, in \u001b[0;36mdict_to_mgr\u001b[0;34m(data, index, columns, dtype, typ, copy)\u001b[0m\n\u001b[1;32m    499\u001b[0m     \u001b[38;5;28;01melse\u001b[39;00m:\n\u001b[1;32m    500\u001b[0m         \u001b[38;5;66;03m# dtype check to exclude e.g. range objects, scalars\u001b[39;00m\n\u001b[1;32m    501\u001b[0m         arrays \u001b[38;5;241m=\u001b[39m [x\u001b[38;5;241m.\u001b[39mcopy() \u001b[38;5;28;01mif\u001b[39;00m \u001b[38;5;28mhasattr\u001b[39m(x, \u001b[38;5;124m\"\u001b[39m\u001b[38;5;124mdtype\u001b[39m\u001b[38;5;124m\"\u001b[39m) \u001b[38;5;28;01melse\u001b[39;00m x \u001b[38;5;28;01mfor\u001b[39;00m x \u001b[38;5;129;01min\u001b[39;00m arrays]\n\u001b[0;32m--> 503\u001b[0m \u001b[38;5;28;01mreturn\u001b[39;00m arrays_to_mgr(arrays, columns, index, dtype\u001b[38;5;241m=\u001b[39mdtype, typ\u001b[38;5;241m=\u001b[39mtyp, consolidate\u001b[38;5;241m=\u001b[39mcopy)\n",
      "File \u001b[0;32m~/anaconda3/envs/fictional_doodle/lib/python3.11/site-packages/pandas/core/internals/construction.py:119\u001b[0m, in \u001b[0;36marrays_to_mgr\u001b[0;34m(arrays, columns, index, dtype, verify_integrity, typ, consolidate)\u001b[0m\n\u001b[1;32m    116\u001b[0m         index \u001b[38;5;241m=\u001b[39m ensure_index(index)\n\u001b[1;32m    118\u001b[0m     \u001b[38;5;66;03m# don't force copy because getting jammed in an ndarray anyway\u001b[39;00m\n\u001b[0;32m--> 119\u001b[0m     arrays, refs \u001b[38;5;241m=\u001b[39m _homogenize(arrays, index, dtype)\n\u001b[1;32m    120\u001b[0m     \u001b[38;5;66;03m# _homogenize ensures\u001b[39;00m\n\u001b[1;32m    121\u001b[0m     \u001b[38;5;66;03m#  - all(len(x) == len(index) for x in arrays)\u001b[39;00m\n\u001b[1;32m    122\u001b[0m     \u001b[38;5;66;03m#  - all(x.ndim == 1 for x in arrays)\u001b[39;00m\n\u001b[0;32m   (...)\u001b[0m\n\u001b[1;32m    125\u001b[0m \n\u001b[1;32m    126\u001b[0m \u001b[38;5;28;01melse\u001b[39;00m:\n\u001b[1;32m    127\u001b[0m     index \u001b[38;5;241m=\u001b[39m ensure_index(index)\n",
      "File \u001b[0;32m~/anaconda3/envs/fictional_doodle/lib/python3.11/site-packages/pandas/core/internals/construction.py:629\u001b[0m, in \u001b[0;36m_homogenize\u001b[0;34m(data, index, dtype)\u001b[0m\n\u001b[1;32m    626\u001b[0m         val \u001b[38;5;241m=\u001b[39m \u001b[38;5;28mdict\u001b[39m(val)\n\u001b[1;32m    627\u001b[0m     val \u001b[38;5;241m=\u001b[39m lib\u001b[38;5;241m.\u001b[39mfast_multiget(val, oindex\u001b[38;5;241m.\u001b[39m_values, default\u001b[38;5;241m=\u001b[39mnp\u001b[38;5;241m.\u001b[39mnan)\n\u001b[0;32m--> 629\u001b[0m val \u001b[38;5;241m=\u001b[39m sanitize_array(val, index, dtype\u001b[38;5;241m=\u001b[39mdtype, copy\u001b[38;5;241m=\u001b[39m\u001b[38;5;28;01mFalse\u001b[39;00m)\n\u001b[1;32m    630\u001b[0m com\u001b[38;5;241m.\u001b[39mrequire_length_match(val, index)\n\u001b[1;32m    631\u001b[0m refs\u001b[38;5;241m.\u001b[39mappend(\u001b[38;5;28;01mNone\u001b[39;00m)\n",
      "File \u001b[0;32m~/anaconda3/envs/fictional_doodle/lib/python3.11/site-packages/pandas/core/construction.py:632\u001b[0m, in \u001b[0;36msanitize_array\u001b[0;34m(data, index, dtype, copy, allow_2d)\u001b[0m\n\u001b[1;32m    629\u001b[0m \u001b[38;5;28;01melif\u001b[39;00m \u001b[38;5;28mhasattr\u001b[39m(data, \u001b[38;5;124m\"\u001b[39m\u001b[38;5;124m__array__\u001b[39m\u001b[38;5;124m\"\u001b[39m):\n\u001b[1;32m    630\u001b[0m     \u001b[38;5;66;03m# e.g. dask array GH#38645\u001b[39;00m\n\u001b[1;32m    631\u001b[0m     data \u001b[38;5;241m=\u001b[39m np\u001b[38;5;241m.\u001b[39marray(data, copy\u001b[38;5;241m=\u001b[39mcopy)\n\u001b[0;32m--> 632\u001b[0m     \u001b[38;5;28;01mreturn\u001b[39;00m sanitize_array(\n\u001b[1;32m    633\u001b[0m         data,\n\u001b[1;32m    634\u001b[0m         index\u001b[38;5;241m=\u001b[39mindex,\n\u001b[1;32m    635\u001b[0m         dtype\u001b[38;5;241m=\u001b[39mdtype,\n\u001b[1;32m    636\u001b[0m         copy\u001b[38;5;241m=\u001b[39m\u001b[38;5;28;01mFalse\u001b[39;00m,\n\u001b[1;32m    637\u001b[0m         allow_2d\u001b[38;5;241m=\u001b[39mallow_2d,\n\u001b[1;32m    638\u001b[0m     )\n\u001b[1;32m    640\u001b[0m \u001b[38;5;28;01melse\u001b[39;00m:\n\u001b[1;32m    641\u001b[0m     _sanitize_non_ordered(data)\n",
      "File \u001b[0;32m~/anaconda3/envs/fictional_doodle/lib/python3.11/site-packages/pandas/core/construction.py:658\u001b[0m, in \u001b[0;36msanitize_array\u001b[0;34m(data, index, dtype, copy, allow_2d)\u001b[0m\n\u001b[1;32m    655\u001b[0m             subarr \u001b[38;5;241m=\u001b[39m cast(np\u001b[38;5;241m.\u001b[39mndarray, subarr)\n\u001b[1;32m    656\u001b[0m             subarr \u001b[38;5;241m=\u001b[39m maybe_infer_to_datetimelike(subarr)\n\u001b[0;32m--> 658\u001b[0m subarr \u001b[38;5;241m=\u001b[39m _sanitize_ndim(subarr, data, dtype, index, allow_2d\u001b[38;5;241m=\u001b[39mallow_2d)\n\u001b[1;32m    660\u001b[0m \u001b[38;5;28;01mif\u001b[39;00m \u001b[38;5;28misinstance\u001b[39m(subarr, np\u001b[38;5;241m.\u001b[39mndarray):\n\u001b[1;32m    661\u001b[0m     \u001b[38;5;66;03m# at this point we should have dtype be None or subarr.dtype == dtype\u001b[39;00m\n\u001b[1;32m    662\u001b[0m     dtype \u001b[38;5;241m=\u001b[39m cast(np\u001b[38;5;241m.\u001b[39mdtype, dtype)\n",
      "File \u001b[0;32m~/anaconda3/envs/fictional_doodle/lib/python3.11/site-packages/pandas/core/construction.py:717\u001b[0m, in \u001b[0;36m_sanitize_ndim\u001b[0;34m(result, data, dtype, index, allow_2d)\u001b[0m\n\u001b[1;32m    715\u001b[0m     \u001b[38;5;28;01mif\u001b[39;00m allow_2d:\n\u001b[1;32m    716\u001b[0m         \u001b[38;5;28;01mreturn\u001b[39;00m result\n\u001b[0;32m--> 717\u001b[0m     \u001b[38;5;28;01mraise\u001b[39;00m \u001b[38;5;167;01mValueError\u001b[39;00m(\n\u001b[1;32m    718\u001b[0m         \u001b[38;5;124mf\u001b[39m\u001b[38;5;124m\"\u001b[39m\u001b[38;5;124mData must be 1-dimensional, got ndarray of shape \u001b[39m\u001b[38;5;132;01m{\u001b[39;00mdata\u001b[38;5;241m.\u001b[39mshape\u001b[38;5;132;01m}\u001b[39;00m\u001b[38;5;124m instead\u001b[39m\u001b[38;5;124m\"\u001b[39m\n\u001b[1;32m    719\u001b[0m     )\n\u001b[1;32m    720\u001b[0m \u001b[38;5;28;01mif\u001b[39;00m is_object_dtype(dtype) \u001b[38;5;129;01mand\u001b[39;00m \u001b[38;5;28misinstance\u001b[39m(dtype, ExtensionDtype):\n\u001b[1;32m    721\u001b[0m     \u001b[38;5;66;03m# i.e. NumpyEADtype(\"O\")\u001b[39;00m\n\u001b[1;32m    723\u001b[0m     result \u001b[38;5;241m=\u001b[39m com\u001b[38;5;241m.\u001b[39masarray_tuplesafe(data, dtype\u001b[38;5;241m=\u001b[39mnp\u001b[38;5;241m.\u001b[39mdtype(\u001b[38;5;124m\"\u001b[39m\u001b[38;5;124mobject\u001b[39m\u001b[38;5;124m\"\u001b[39m))\n",
      "\u001b[0;31mValueError\u001b[0m: Data must be 1-dimensional, got ndarray of shape (208, 1) instead"
     ]
    }
   ],
   "source": [
    "pd.DataFrame(created_dataframes, index=[1])"
   ]
  },
  {
   "cell_type": "code",
   "execution_count": null,
   "id": "96f5ca29-d9bb-4cd1-96aa-af6321e4a0e6",
   "metadata": {},
   "outputs": [],
   "source": []
  },
  {
   "cell_type": "code",
   "execution_count": 268,
   "id": "4d3f604c-5036-42c6-8baa-ca4533d37fd7",
   "metadata": {},
   "outputs": [
    {
     "data": {
      "text/html": [
       "<div>\n",
       "<style scoped>\n",
       "    .dataframe tbody tr th:only-of-type {\n",
       "        vertical-align: middle;\n",
       "    }\n",
       "\n",
       "    .dataframe tbody tr th {\n",
       "        vertical-align: top;\n",
       "    }\n",
       "\n",
       "    .dataframe thead th {\n",
       "        text-align: right;\n",
       "    }\n",
       "</style>\n",
       "<table border=\"1\" class=\"dataframe\">\n",
       "  <thead>\n",
       "    <tr style=\"text-align: right;\">\n",
       "      <th></th>\n",
       "      <th>demand</th>\n",
       "    </tr>\n",
       "  </thead>\n",
       "  <tbody>\n",
       "    <tr>\n",
       "      <th>5082</th>\n",
       "      <td>103</td>\n",
       "    </tr>\n",
       "    <tr>\n",
       "      <th>5080</th>\n",
       "      <td>91</td>\n",
       "    </tr>\n",
       "    <tr>\n",
       "      <th>5077</th>\n",
       "      <td>113</td>\n",
       "    </tr>\n",
       "    <tr>\n",
       "      <th>5073</th>\n",
       "      <td>108</td>\n",
       "    </tr>\n",
       "    <tr>\n",
       "      <th>5068</th>\n",
       "      <td>96</td>\n",
       "    </tr>\n",
       "    <tr>\n",
       "      <th>...</th>\n",
       "      <td>...</td>\n",
       "    </tr>\n",
       "    <tr>\n",
       "      <th>130</th>\n",
       "      <td>62</td>\n",
       "    </tr>\n",
       "    <tr>\n",
       "      <th>104</th>\n",
       "      <td>68</td>\n",
       "    </tr>\n",
       "    <tr>\n",
       "      <th>78</th>\n",
       "      <td>68</td>\n",
       "    </tr>\n",
       "    <tr>\n",
       "      <th>52</th>\n",
       "      <td>88</td>\n",
       "    </tr>\n",
       "    <tr>\n",
       "      <th>26</th>\n",
       "      <td>85</td>\n",
       "    </tr>\n",
       "  </tbody>\n",
       "</table>\n",
       "<p>207 rows × 1 columns</p>\n",
       "</div>"
      ],
      "text/plain": [
       "      demand\n",
       "5082     103\n",
       "5080      91\n",
       "5077     113\n",
       "5073     108\n",
       "5068      96\n",
       "...      ...\n",
       "130       62\n",
       "104       68\n",
       "78        68\n",
       "52        88\n",
       "26        85\n",
       "\n",
       "[207 rows x 1 columns]"
      ]
     },
     "execution_count": 268,
     "metadata": {},
     "output_type": "execute_result"
    }
   ],
   "source": [
    "sorted_week"
   ]
  },
  {
   "cell_type": "code",
   "execution_count": 280,
   "id": "bfa8d71e-dd32-4085-a7bc-a2ecd36f4e99",
   "metadata": {},
   "outputs": [
    {
     "data": {
      "text/html": [
       "<div>\n",
       "<style scoped>\n",
       "    .dataframe tbody tr th:only-of-type {\n",
       "        vertical-align: middle;\n",
       "    }\n",
       "\n",
       "    .dataframe tbody tr th {\n",
       "        vertical-align: top;\n",
       "    }\n",
       "\n",
       "    .dataframe thead th {\n",
       "        text-align: right;\n",
       "    }\n",
       "</style>\n",
       "<table border=\"1\" class=\"dataframe\">\n",
       "  <thead>\n",
       "    <tr style=\"text-align: right;\">\n",
       "      <th></th>\n",
       "      <th>1</th>\n",
       "    </tr>\n",
       "  </thead>\n",
       "  <tbody>\n",
       "    <tr>\n",
       "      <th>5082</th>\n",
       "      <td>103</td>\n",
       "    </tr>\n",
       "    <tr>\n",
       "      <th>5080</th>\n",
       "      <td>91</td>\n",
       "    </tr>\n",
       "    <tr>\n",
       "      <th>5077</th>\n",
       "      <td>113</td>\n",
       "    </tr>\n",
       "    <tr>\n",
       "      <th>5073</th>\n",
       "      <td>108</td>\n",
       "    </tr>\n",
       "    <tr>\n",
       "      <th>5068</th>\n",
       "      <td>96</td>\n",
       "    </tr>\n",
       "    <tr>\n",
       "      <th>...</th>\n",
       "      <td>...</td>\n",
       "    </tr>\n",
       "    <tr>\n",
       "      <th>130</th>\n",
       "      <td>62</td>\n",
       "    </tr>\n",
       "    <tr>\n",
       "      <th>104</th>\n",
       "      <td>68</td>\n",
       "    </tr>\n",
       "    <tr>\n",
       "      <th>78</th>\n",
       "      <td>68</td>\n",
       "    </tr>\n",
       "    <tr>\n",
       "      <th>52</th>\n",
       "      <td>88</td>\n",
       "    </tr>\n",
       "    <tr>\n",
       "      <th>26</th>\n",
       "      <td>85</td>\n",
       "    </tr>\n",
       "  </tbody>\n",
       "</table>\n",
       "<p>207 rows × 1 columns</p>\n",
       "</div>"
      ],
      "text/plain": [
       "        1\n",
       "5082  103\n",
       "5080   91\n",
       "5077  113\n",
       "5073  108\n",
       "5068   96\n",
       "...   ...\n",
       "130    62\n",
       "104    68\n",
       "78     68\n",
       "52     88\n",
       "26     85\n",
       "\n",
       "[207 rows x 1 columns]"
      ]
     },
     "execution_count": 280,
     "metadata": {},
     "output_type": "execute_result"
    }
   ],
   "source": [
    "sorted_week"
   ]
  },
  {
   "cell_type": "code",
   "execution_count": 194,
   "id": "e1fe219e-0214-4b09-9841-b169f75328ab",
   "metadata": {},
   "outputs": [
    {
     "ename": "TypeError",
     "evalue": "'DataFrame' object is not callable",
     "output_type": "error",
     "traceback": [
      "\u001b[0;31m---------------------------------------------------------------------------\u001b[0m",
      "\u001b[0;31mTypeError\u001b[0m                                 Traceback (most recent call last)",
      "Cell \u001b[0;32mIn[194], line 1\u001b[0m\n\u001b[0;32m----> 1\u001b[0m overview_forecast_dreamland(\u001b[38;5;124m'\u001b[39m\u001b[38;5;124mdemand\u001b[39m\u001b[38;5;124m'\u001b[39m)(overview_forecast_dreamland\u001b[38;5;241m.\u001b[39msort_values(\u001b[38;5;124m'\u001b[39m\u001b[38;5;124mweek\u001b[39m\u001b[38;5;124m'\u001b[39m, ascending\u001b[38;5;241m=\u001b[39m\u001b[38;5;28;01mFalse\u001b[39;00m))\n",
      "\u001b[0;31mTypeError\u001b[0m: 'DataFrame' object is not callable"
     ]
    }
   ],
   "source": [
    "overview_forecast_dreamland['demand'](overview_forecast_dreamland.sort_values('week', ascending=False))"
   ]
  },
  {
   "cell_type": "code",
   "execution_count": 198,
   "id": "6f6820fe-ebb9-4221-aab6-ee54e37e6ffa",
   "metadata": {},
   "outputs": [
    {
     "data": {
      "text/plain": [
       "5082    103\n",
       "5080     91\n",
       "5077    113\n",
       "5073    108\n",
       "5068     96\n",
       "       ... \n",
       "104      68\n",
       "78       68\n",
       "52       88\n",
       "26       85\n",
       "0        83\n",
       "Name: demand, Length: 208, dtype: int64"
      ]
     },
     "execution_count": 198,
     "metadata": {},
     "output_type": "execute_result"
    }
   ],
   "source": [
    "overview_forecast_dreamland.sort_values('week', ascending=False)['demand']"
   ]
  },
  {
   "cell_type": "code",
   "execution_count": null,
   "id": "abde224a-895e-417d-855e-9fc003c4ba50",
   "metadata": {},
   "outputs": [],
   "source": []
  },
  {
   "cell_type": "code",
   "execution_count": null,
   "id": "3ffb5e15-9d6d-4ad8-91de-8812fea97bc3",
   "metadata": {},
   "outputs": [],
   "source": []
  },
  {
   "cell_type": "code",
   "execution_count": 341,
   "id": "89042853-21e8-474a-8733-2ba5561bca5a",
   "metadata": {},
   "outputs": [],
   "source": [
    "data_1 = {\n",
    "    'A': ['A1', 'A2', 'A3', 'A4', 'A5']}\n",
    "df_1 = pd.DataFrame(data_1)"
   ]
  },
  {
   "cell_type": "code",
   "execution_count": 342,
   "id": "e3f8d4ed-e3a1-47ba-9301-bdad328c8a56",
   "metadata": {},
   "outputs": [],
   "source": [
    "data_2 = {\n",
    "    'B': ['B1', 'B2', 'B3', 'B4', 'B5']}\n",
    "df_2 = pd.DataFrame(data_2)"
   ]
  },
  {
   "cell_type": "code",
   "execution_count": 343,
   "id": "597e2b6f-f7cf-45c8-a076-fdd7387ec6d3",
   "metadata": {},
   "outputs": [],
   "source": [
    "data_3 = {\n",
    "    'C': ['C1', 'C2', 'C3', 'C4', 'C5']}\n",
    "df_3 = pd.DataFrame(data_3)"
   ]
  },
  {
   "cell_type": "code",
   "execution_count": 345,
   "id": "0e0d99d2-324b-46d4-82de-aa7dc4be2ead",
   "metadata": {},
   "outputs": [
    {
     "name": "stdout",
     "output_type": "stream",
     "text": [
      "    A   B   C\n",
      "0  A1  B1  C1\n",
      "1  A2  B2  C2\n",
      "2  A3  B3  C3\n",
      "3  A4  B4  C4\n",
      "4  A5  B5  C5\n"
     ]
    }
   ],
   "source": [
    "dataframes = [df_1, df_2, df_3]\n",
    "\n",
    "# Concatenate DataFrames along columns\n",
    "concatenated_df = pd.concat([df for df in dataframes], axis=1)\n",
    "\n",
    "# Display the result\n",
    "print(concatenated_df)"
   ]
  },
  {
   "cell_type": "code",
   "execution_count": 300,
   "id": "6b7b77e5-11e8-4154-991f-3828400ba49d",
   "metadata": {},
   "outputs": [
    {
     "data": {
      "text/plain": [
       "array(['B1', 'B2', 'B3', 'B4'], dtype=object)"
      ]
     },
     "execution_count": 300,
     "metadata": {},
     "output_type": "execute_result"
    }
   ],
   "source": [
    "# create a dictionary with five fields each\n",
    "data = {\n",
    "    'A': ['A1', 'A2', 'A3', 'A4', 'A5'],\n",
    "    'B': ['B1', 'B2', 'B3', 'B4', 'B4'],\n",
    "    'C': ['C1', 'C2', 'C3', 'C3', 'C3'],\n",
    "    'D': ['D1', 'D2', 'D2', 'D2', 'D2'],\n",
    "    'E': ['E1', 'E1', 'E1', 'E1', 'E1']}\n",
    " \n",
    "# Convert the dictionary into DataFrame\n",
    "df = pd.DataFrame(data)\n",
    " \n",
    "# Get the unique values of 'B' column\n",
    "df.B.unique()\n"
   ]
  }
 ],
 "metadata": {
  "kernelspec": {
   "display_name": "Python 3 (ipykernel)",
   "language": "python",
   "name": "python3"
  },
  "language_info": {
   "codemirror_mode": {
    "name": "ipython",
    "version": 3
   },
   "file_extension": ".py",
   "mimetype": "text/x-python",
   "name": "python",
   "nbconvert_exporter": "python",
   "pygments_lexer": "ipython3",
   "version": "3.11.7"
  }
 },
 "nbformat": 4,
 "nbformat_minor": 5
}
