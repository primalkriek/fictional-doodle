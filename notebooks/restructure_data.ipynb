{
 "cells": [
  {
   "cell_type": "code",
   "execution_count": null,
   "id": "3f9054da-6f00-4b99-83bd-3ab5cc9c33ae",
   "metadata": {},
   "outputs": [],
   "source": [
    "import pandas as pd\n",
    "import numpy as np"
   ]
  },
  {
   "cell_type": "code",
   "execution_count": null,
   "id": "c516b2b3-8b47-47a8-ab85-156a50056d88",
   "metadata": {},
   "outputs": [],
   "source": [
    "all_data = pd.read_csv('../data/dataset.csv', encoding=\"windows-1252\", sep=\",\")"
   ]
  },
  {
   "cell_type": "code",
   "execution_count": null,
   "id": "212a6d66-7df8-4ab1-8b42-45bf559a5898",
   "metadata": {},
   "outputs": [],
   "source": [
    "with pd.ExcelWriter('../output/overview actuals_GVDK.xlsx') as writer:  \n",
    "    all_data[all_data['week'] == all_data['forecasted week']].to_excel(writer, sheet_name='Actual Demand', index = False)"
   ]
  },
  {
   "cell_type": "code",
   "execution_count": null,
   "id": "cb372a98-1efd-4b4b-a984-ef54baae8ebf",
   "metadata": {},
   "outputs": [],
   "source": [
    "with pd.ExcelWriter('../output/overview forecasts_GVDK.xlsx') as writer:  \n",
    "    for customer in customers:\n",
    "        for product in products:\n",
    "        #print(customer, product)\n",
    "            pivot_data = all_data[ (all_data['week'] <= 25)\n",
    "            &  (all_data['customer']==customer)\n",
    "            &  (all_data['product']==product)].pivot(\n",
    "            index='forecasted week', columns='week', values='demand').T\n",
    "            pivot_data_sheet_name = customer+' - ' +product\n",
    "            pivot_data.to_excel(writer, sheet_name=pivot_data_sheet_name)"
   ]
  },
  {
   "cell_type": "code",
   "execution_count": null,
   "id": "c6ea74c1-b14c-4eb0-b5b0-545b68d4eddd",
   "metadata": {},
   "outputs": [],
   "source": [
    "created_dataframes = {}\n",
    "with pd.ExcelWriter('../output/overview_weeks_advance_GVDK.xlsx') as writer:  \n",
    "    for customer in customers:\n",
    "        for product in products:\n",
    "            for weeknr in range(26):\n",
    "                overview_weeks_advance =all_data[(all_data['product'] == product)\n",
    "                &  (all_data['customer']==customer)\n",
    "                & (all_data['week'] == all_data['forecasted week'])].sort_values('week', ascending=False)\n",
    "                overview_weeks_advance = pd.DataFrame(overview_weeks_advance[(overview_weeks_advance['week'] >= weeknr)]['demand'])\n",
    "                overview_weeks_advance.rename(columns={'demand': weeknr}, inplace=True)\n",
    "                created_dataframes[weeknr] =  pd.DataFrame(overview_weeks_advance)\n",
    "            overview_weeks_advance_sheet_name = customer+' - ' +product\n",
    "            concatenated_df = pd.concat(created_dataframes.values(), axis=1)\n",
    "            concatenated_df.to_excel(writer, sheet_name=overview_weeks_advance_sheet_name, index =False)"
   ]
  },
  {
   "cell_type": "code",
   "execution_count": null,
   "id": "db58c39f-f6c2-47e5-b1d2-c86389a41618",
   "metadata": {},
   "outputs": [],
   "source": [
    "created_dataframes = {}\n",
    "with pd.ExcelWriter('../output/stats_weeks_advance_GVDK.xlsx') as writer: \n",
    "    for customer in customers:\n",
    "        for product in products:\n",
    "            for weeknr in range(26):\n",
    "                stats_weeks_advance =all_data[(all_data['product'] == product)\n",
    "                &  (all_data['customer']==customer)\n",
    "                & (all_data['week'] == all_data['forecasted week'])]\n",
    "                stats_weeks_advance = pd.DataFrame(stats_weeks_advance[(stats_weeks_advance['week'] >= weeknr)]['demand']).describe().T\n",
    "                stats_weeks_advance.rename(index={'demand': weeknr}, inplace=True)\n",
    "                stats_weeks_advance = stats_weeks_advance.rename_axis(\"weeks_in_advance\").reset_index()\n",
    "                created_dataframes[weeknr] =  pd.DataFrame(stats_weeks_advance)\n",
    "            stats_weeks_advance_sheet_name = customer+' - ' +product\n",
    "            concatenated_df = pd.concat(created_dataframes.values(), axis=0)\n",
    "            concatenated_df.to_excel(writer, sheet_name=stats_weeks_advance_sheet_name, index =False)"
   ]
  }
 ],
 "metadata": {
  "kernelspec": {
   "display_name": "Python 3 (ipykernel)",
   "language": "python",
   "name": "python3"
  },
  "language_info": {
   "codemirror_mode": {
    "name": "ipython",
    "version": 3
   },
   "file_extension": ".py",
   "mimetype": "text/x-python",
   "name": "python",
   "nbconvert_exporter": "python",
   "pygments_lexer": "ipython3",
   "version": "3.11.7"
  }
 },
 "nbformat": 4,
 "nbformat_minor": 5
}
